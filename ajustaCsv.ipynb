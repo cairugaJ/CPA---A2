{
 "cells": [
  {
   "attachments": {},
   "cell_type": "markdown",
   "metadata": {},
   "source": [
    "## Microdados do Censo da Educação Superior 2021\n",
    "Fonte dos Dados: https://www.gov.br/inep/pt-br/acesso-a-informacao/dados-abertos/microdados/censo-da-educacao-superior\n"
   ]
  },
  {
   "cell_type": "code",
   "execution_count": 1,
   "metadata": {},
   "outputs": [],
   "source": [
    "#Bibliotecas\n",
    "import pandas as pd\n",
    "import numpy as np"
   ]
  },
  {
   "cell_type": "code",
   "execution_count": 2,
   "metadata": {},
   "outputs": [
    {
     "name": "stderr",
     "output_type": "stream",
     "text": [
      "C:\\Users\\cairu\\AppData\\Local\\Temp\\ipykernel_23108\\385857542.py:1: DtypeWarning: Columns (1,3,4,6) have mixed types. Specify dtype option on import or set low_memory=False.\n",
      "  dados = pd.read_table(\"MICRODADOS_CADASTRO_CURSOS_2021.CSV\", encoding='latin-1', delimiter=';') #Lê csv\n"
     ]
    }
   ],
   "source": [
    "dados = pd.read_table(\"MICRODADOS_CADASTRO_CURSOS_2021.CSV\", encoding='latin-1', delimiter=';') #Lê csv"
   ]
  },
  {
   "cell_type": "code",
   "execution_count": 11,
   "metadata": {},
   "outputs": [
    {
     "name": "stdout",
     "output_type": "stream",
     "text": [
      "<class 'pandas.core.frame.DataFrame'>\n",
      "Int64Index: 436533 entries, 7960 to 444785\n",
      "Columns: 200 entries, NU_ANO_CENSO to QT_CONC_MOB_ACADEMICA\n",
      "dtypes: float64(5), int64(185), object(10)\n",
      "memory usage: 669.4+ MB\n"
     ]
    }
   ],
   "source": [
    "dados.info() #444786 entries"
   ]
  },
  {
   "attachments": {},
   "cell_type": "markdown",
   "metadata": {},
   "source": [
    "### Sugestão do professor, reduzir o número de entries a partir de algum tipo de filtragem"
   ]
  },
  {
   "cell_type": "code",
   "execution_count": 8,
   "metadata": {},
   "outputs": [
    {
     "name": "stdout",
     "output_type": "stream",
     "text": [
      "[nan 'Centro-Oeste' 'Nordeste' 'Norte' 'Sudeste' 'Sul']\n"
     ]
    }
   ],
   "source": [
    "print(dados['NO_REGIAO'].unique())"
   ]
  },
  {
   "cell_type": "code",
   "execution_count": 10,
   "metadata": {},
   "outputs": [
    {
     "name": "stdout",
     "output_type": "stream",
     "text": [
      "[nan 'DF' 'GO' 'MT' 'MS' 'AL' 'BA' 'CE' 'MA' 'PB' 'PE' 'PI' 'RN' 'SE' 'AC'\n",
      " 'AP' 'AM' 'PA' 'RO' 'RR' 'TO' 'ES' 'MG' 'RJ' 'SP' 'PR' 'RS' 'SC']\n"
     ]
    }
   ],
   "source": [
    "print(dados['SG_UF'].unique())"
   ]
  },
  {
   "cell_type": "code",
   "execution_count": 16,
   "metadata": {},
   "outputs": [
    {
     "name": "stdout",
     "output_type": "stream",
     "text": [
      "['Negócios, administração e direito' 'Educação'\n",
      " 'Ciências sociais, comunicação e informação'\n",
      " 'Computação e Tecnologias da Informação e Comunicação (TIC)' 'Serviços'\n",
      " 'Engenharia, produção e construção' 'Artes e humanidades'\n",
      " 'Ciências naturais, matemática e estatística'\n",
      " 'Agricultura, silvicultura, pesca e veterinária' 'Saúde e bem-estar'\n",
      " 'Programas básicos']\n"
     ]
    }
   ],
   "source": [
    "print(dados['NO_CINE_AREA_GERAL'].unique())"
   ]
  },
  {
   "cell_type": "code",
   "execution_count": 4,
   "metadata": {},
   "outputs": [],
   "source": [
    "dadosSul = dados[dados['NO_REGIAO'] == 'Sul']#100759 entries"
   ]
  },
  {
   "cell_type": "code",
   "execution_count": 10,
   "metadata": {},
   "outputs": [
    {
     "name": "stdout",
     "output_type": "stream",
     "text": [
      "<class 'pandas.core.frame.DataFrame'>\n",
      "Int64Index: 100700 entries, 344027 to 444785\n",
      "Columns: 200 entries, NU_ANO_CENSO to QT_CONC_MOB_ACADEMICA\n",
      "dtypes: float64(5), int64(185), object(10)\n",
      "memory usage: 154.4+ MB\n"
     ]
    }
   ],
   "source": [
    "dadosSul.info()"
   ]
  },
  {
   "cell_type": "code",
   "execution_count": 6,
   "metadata": {},
   "outputs": [],
   "source": [
    "dadosTIC = dados[dados['NO_CINE_AREA_GERAL'] == 'Computação e Tecnologias da Informação e Comunicação (TIC)'] #39087"
   ]
  },
  {
   "cell_type": "code",
   "execution_count": 8,
   "metadata": {},
   "outputs": [
    {
     "name": "stdout",
     "output_type": "stream",
     "text": [
      "<class 'pandas.core.frame.DataFrame'>\n",
      "Int64Index: 38349 entries, 7973 to 444780\n",
      "Columns: 200 entries, NU_ANO_CENSO to QT_CONC_MOB_ACADEMICA\n",
      "dtypes: float64(5), int64(185), object(10)\n",
      "memory usage: 58.8+ MB\n"
     ]
    }
   ],
   "source": [
    "dadosTIC.info()"
   ]
  },
  {
   "cell_type": "code",
   "execution_count": 7,
   "metadata": {},
   "outputs": [],
   "source": [
    "#Removendo entries que possuam valores null\n",
    "dados = dados.dropna() #436533\n",
    "dadosSul = dadosSul.dropna() #100700\n",
    "dadosTIC = dadosTIC.dropna() #38349 entries\n"
   ]
  },
  {
   "attachments": {},
   "cell_type": "markdown",
   "metadata": {},
   "source": [
    "## Salvando\n"
   ]
  },
  {
   "cell_type": "code",
   "execution_count": 12,
   "metadata": {},
   "outputs": [],
   "source": [
    "dados.to_json(\"dados.json\")\n",
    "dadosSul.to_json(\"dadosRegiaoSul.json\")\n",
    "dadosTIC.to_json(\"dadosTIC.json\")"
   ]
  }
 ],
 "metadata": {
  "kernelspec": {
   "display_name": "Python 3",
   "language": "python",
   "name": "python3"
  },
  "language_info": {
   "codemirror_mode": {
    "name": "ipython",
    "version": 3
   },
   "file_extension": ".py",
   "mimetype": "text/x-python",
   "name": "python",
   "nbconvert_exporter": "python",
   "pygments_lexer": "ipython3",
   "version": "3.10.9"
  },
  "orig_nbformat": 4
 },
 "nbformat": 4,
 "nbformat_minor": 2
}
