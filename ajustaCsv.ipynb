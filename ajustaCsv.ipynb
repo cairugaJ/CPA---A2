{
  "cells": [
    {
      "cell_type": "markdown",
      "metadata": {
        "id": "pnG0Nun9rWgV"
      },
      "source": [
        "## Microdados do Censo da Educação Superior 2021\n",
        "Fonte dos Dados: https://www.gov.br/inep/pt-br/acesso-a-informacao/dados-abertos/microdados/censo-da-educacao-superior\n"
      ]
    },
    {
      "cell_type": "code",
      "source": [
        "#14,15,19,20,25,46"
      ],
      "metadata": {
        "id": "654fjkDlz5kK"
      },
      "execution_count": null,
      "outputs": []
    },
    {
      "cell_type": "code",
      "source": [
        "from google.colab import drive\n",
        "drive.mount('/content/drive')"
      ],
      "metadata": {
        "colab": {
          "base_uri": "https://localhost:8080/"
        },
        "id": "21S_68IdrZYQ",
        "outputId": "c6b62731-6afe-4e94-d7e4-5d605df6d077"
      },
      "execution_count": 1,
      "outputs": [
        {
          "output_type": "stream",
          "name": "stdout",
          "text": [
            "Mounted at /content/drive\n"
          ]
        }
      ]
    },
    {
      "cell_type": "code",
      "execution_count": 2,
      "metadata": {
        "id": "b8-gSt4crWgd"
      },
      "outputs": [],
      "source": [
        "#Bibliotecas\n",
        "import pandas as pd\n",
        "import numpy as np"
      ]
    },
    {
      "cell_type": "code",
      "execution_count": 18,
      "metadata": {
        "id": "jwfcK9csrWgg"
      },
      "outputs": [],
      "source": [
        "dados = pd.read_table(\"/content/drive/MyDrive/CDIA 2023 1/Coleta, Preparação e Análise de Dados/T2/MICRODADOS_CADASTRO_IES_2021.CSV\", encoding='latin-1', delimiter=';') #Lê csv"
      ]
    },
    {
      "cell_type": "code",
      "execution_count": null,
      "metadata": {
        "id": "TgINP2hprWgi"
      },
      "outputs": [],
      "source": [
        "dados.info() #444786 entries"
      ]
    },
    {
      "cell_type": "markdown",
      "metadata": {
        "id": "nu5bc6VArWgk"
      },
      "source": [
        "### Sugestão do professor, reduzir o número de entries a partir de algum tipo de filtragem"
      ]
    },
    {
      "cell_type": "code",
      "execution_count": null,
      "metadata": {
        "id": "BC4Lu_MErWgl",
        "outputId": "766081ba-b6e1-42c8-b5ad-e18975c1e826"
      },
      "outputs": [
        {
          "name": "stdout",
          "output_type": "stream",
          "text": [
            "[nan 'Centro-Oeste' 'Nordeste' 'Norte' 'Sudeste' 'Sul']\n"
          ]
        }
      ],
      "source": [
        "print(dados['NO_REGIAO'].unique())"
      ]
    },
    {
      "cell_type": "code",
      "execution_count": null,
      "metadata": {
        "id": "OpIqK0kmrWgm",
        "outputId": "80e92c14-f6e0-41f9-8230-91ae680a9541"
      },
      "outputs": [
        {
          "name": "stdout",
          "output_type": "stream",
          "text": [
            "[nan 'DF' 'GO' 'MT' 'MS' 'AL' 'BA' 'CE' 'MA' 'PB' 'PE' 'PI' 'RN' 'SE' 'AC'\n",
            " 'AP' 'AM' 'PA' 'RO' 'RR' 'TO' 'ES' 'MG' 'RJ' 'SP' 'PR' 'RS' 'SC']\n"
          ]
        }
      ],
      "source": [
        "print(dados['SG_UF'].unique())"
      ]
    },
    {
      "cell_type": "code",
      "execution_count": null,
      "metadata": {
        "id": "DYbg6T_3rWgo",
        "outputId": "9b7aeff4-88c3-46f5-aa0d-36ac52372a4d"
      },
      "outputs": [
        {
          "name": "stdout",
          "output_type": "stream",
          "text": [
            "['Negócios, administração e direito' 'Educação'\n",
            " 'Ciências sociais, comunicação e informação'\n",
            " 'Computação e Tecnologias da Informação e Comunicação (TIC)' 'Serviços'\n",
            " 'Engenharia, produção e construção' 'Artes e humanidades'\n",
            " 'Ciências naturais, matemática e estatística'\n",
            " 'Agricultura, silvicultura, pesca e veterinária' 'Saúde e bem-estar'\n",
            " 'Programas básicos']\n"
          ]
        }
      ],
      "source": [
        "print(dados['NO_CINE_AREA_GERAL'].unique())"
      ]
    },
    {
      "cell_type": "code",
      "execution_count": 5,
      "metadata": {
        "id": "xRHRkJEcrWgp"
      },
      "outputs": [],
      "source": [
        "dadosSul = dados[dados['NO_REGIAO'] == 'Sul']#100759 entries"
      ]
    },
    {
      "cell_type": "code",
      "execution_count": null,
      "metadata": {
        "id": "fxlsud6OrWgr",
        "outputId": "70eea106-497d-4692-a11c-102d71cc6a9a"
      },
      "outputs": [
        {
          "name": "stdout",
          "output_type": "stream",
          "text": [
            "<class 'pandas.core.frame.DataFrame'>\n",
            "Int64Index: 100759 entries, 344027 to 444785\n",
            "Columns: 200 entries, NU_ANO_CENSO to QT_CONC_MOB_ACADEMICA\n",
            "dtypes: float64(5), int64(185), object(10)\n",
            "memory usage: 154.5+ MB\n"
          ]
        }
      ],
      "source": [
        "dadosSul.info()"
      ]
    },
    {
      "cell_type": "code",
      "execution_count": null,
      "metadata": {
        "id": "LppkCQ4PrWgs"
      },
      "outputs": [],
      "source": [
        "dadosTIC = dados[dados['NO_CINE_AREA_GERAL'] == 'Computação e Tecnologias da Informação e Comunicação (TIC)'] #39087"
      ]
    },
    {
      "cell_type": "code",
      "execution_count": null,
      "metadata": {
        "id": "DaMQlx3urWgt",
        "outputId": "395155d2-151a-45a9-c3da-420d4fcf98e1"
      },
      "outputs": [
        {
          "name": "stdout",
          "output_type": "stream",
          "text": [
            "<class 'pandas.core.frame.DataFrame'>\n",
            "Int64Index: 39087 entries, 46 to 444780\n",
            "Columns: 200 entries, NU_ANO_CENSO to QT_CONC_MOB_ACADEMICA\n",
            "dtypes: float64(5), int64(185), object(10)\n",
            "memory usage: 59.9+ MB\n"
          ]
        }
      ],
      "source": [
        "dadosTIC.info()"
      ]
    },
    {
      "cell_type": "code",
      "source": [
        "dadosTIC[\"NO_REGIAO\",\"SG_UF\",\"TP_ORGANIZACAO_ACADEMICA\",\"TP_CATEGORIA_ADMINISTRATIVA\", \"NO_CINE_AREA_DETALHADA\"].unique()"
      ],
      "metadata": {
        "colab": {
          "base_uri": "https://localhost:8080/"
        },
        "id": "pWI_K5Q5sf7_",
        "outputId": "bee0b7bb-18d1-4c4e-a710-b465f8cded7a"
      },
      "execution_count": 11,
      "outputs": [
        {
          "output_type": "execute_result",
          "data": {
            "text/plain": [
              "array(['Ciência da computação',\n",
              "       'Desenvolvimento de sistemas que integram software e hardware',\n",
              "       'Produção de software',\n",
              "       'Gestão e desenvolvimento de sistemas de informação',\n",
              "       'Infraestrutura e gestão de TIC',\n",
              "       'Soluções computacionais para domínios específicos',\n",
              "       'Programas interdisciplinares abrangendo computação e Tecnologias da Informação e Comunicação (TIC)'],\n",
              "      dtype=object)"
            ]
          },
          "metadata": {},
          "execution_count": 11
        }
      ]
    },
    {
      "cell_type": "code",
      "source": [
        "dadosTIC[\"NO_REGIAO\"].unique()"
      ],
      "metadata": {
        "colab": {
          "base_uri": "https://localhost:8080/"
        },
        "id": "8U_I82KYxhwT",
        "outputId": "3008d753-d400-4a41-d2f1-d4ba76e8c45a"
      },
      "execution_count": 15,
      "outputs": [
        {
          "output_type": "execute_result",
          "data": {
            "text/plain": [
              "array(['Centro-Oeste', 'Nordeste', 'Norte', 'Sudeste', 'Sul'],\n",
              "      dtype=object)"
            ]
          },
          "metadata": {},
          "execution_count": 15
        }
      ]
    },
    {
      "cell_type": "code",
      "source": [
        "dadosTIC[\"NO_REGIAO\"].head()"
      ],
      "metadata": {
        "colab": {
          "base_uri": "https://localhost:8080/"
        },
        "id": "o_NmkNXUyJzM",
        "outputId": "7af25c74-dd59-4e4b-b5a0-d73e4344fb59"
      },
      "execution_count": 17,
      "outputs": [
        {
          "output_type": "execute_result",
          "data": {
            "text/plain": [
              "7973    Centro-Oeste\n",
              "8004    Centro-Oeste\n",
              "8008    Centro-Oeste\n",
              "8083    Centro-Oeste\n",
              "8086    Centro-Oeste\n",
              "Name: NO_REGIAO, dtype: object"
            ]
          },
          "metadata": {},
          "execution_count": 17
        }
      ]
    },
    {
      "cell_type": "code",
      "source": [
        "print(dadosTIC.columns.values)"
      ],
      "metadata": {
        "colab": {
          "base_uri": "https://localhost:8080/"
        },
        "id": "27M8M7UjtvPU",
        "outputId": "08b6e110-a0c9-4a7e-b7a7-55d82db7a7af"
      },
      "execution_count": 12,
      "outputs": [
        {
          "output_type": "stream",
          "name": "stdout",
          "text": [
            "['NU_ANO_CENSO' 'NO_REGIAO' 'CO_REGIAO' 'NO_UF' 'SG_UF' 'CO_UF'\n",
            " 'NO_MUNICIPIO' 'CO_MUNICIPIO' 'IN_CAPITAL' 'TP_DIMENSAO'\n",
            " 'TP_ORGANIZACAO_ACADEMICA' 'TP_CATEGORIA_ADMINISTRATIVA' 'TP_REDE'\n",
            " 'CO_IES' 'NO_CURSO' 'CO_CURSO' 'NO_CINE_ROTULO' 'CO_CINE_ROTULO'\n",
            " 'CO_CINE_AREA_GERAL' 'NO_CINE_AREA_GERAL' 'CO_CINE_AREA_ESPECIFICA'\n",
            " 'NO_CINE_AREA_ESPECIFICA' 'CO_CINE_AREA_DETALHADA'\n",
            " 'NO_CINE_AREA_DETALHADA' 'TP_GRAU_ACADEMICO' 'IN_GRATUITO'\n",
            " 'TP_MODALIDADE_ENSINO' 'TP_NIVEL_ACADEMICO' 'QT_CURSO' 'QT_VG_TOTAL'\n",
            " 'QT_VG_TOTAL_DIURNO' 'QT_VG_TOTAL_NOTURNO' 'QT_VG_TOTAL_EAD' 'QT_VG_NOVA'\n",
            " 'QT_VG_PROC_SELETIVO' 'QT_VG_REMANESC' 'QT_VG_PROG_ESPECIAL'\n",
            " 'QT_INSCRITO_TOTAL' 'QT_INSCRITO_TOTAL_DIURNO'\n",
            " 'QT_INSCRITO_TOTAL_NOTURNO' 'QT_INSCRITO_TOTAL_EAD' 'QT_INSC_VG_NOVA'\n",
            " 'QT_INSC_PROC_SELETIVO' 'QT_INSC_VG_REMANESC' 'QT_INSC_VG_PROG_ESPECIAL'\n",
            " 'QT_ING' 'QT_ING_FEM' 'QT_ING_MASC' 'QT_ING_DIURNO' 'QT_ING_NOTURNO'\n",
            " 'QT_ING_VG_NOVA' 'QT_ING_VESTIBULAR' 'QT_ING_ENEM'\n",
            " 'QT_ING_AVALIACAO_SERIADA' 'QT_ING_SELECAO_SIMPLIFICA' 'QT_ING_EGR'\n",
            " 'QT_ING_OUTRO_TIPO_SELECAO' 'QT_ING_PROC_SELETIVO' 'QT_ING_VG_REMANESC'\n",
            " 'QT_ING_VG_PROG_ESPECIAL' 'QT_ING_OUTRA_FORMA' 'QT_ING_0_17'\n",
            " 'QT_ING_18_24' 'QT_ING_25_29' 'QT_ING_30_34' 'QT_ING_35_39'\n",
            " 'QT_ING_40_49' 'QT_ING_50_59' 'QT_ING_60_MAIS' 'QT_ING_BRANCA'\n",
            " 'QT_ING_PRETA' 'QT_ING_PARDA' 'QT_ING_AMARELA' 'QT_ING_INDIGENA'\n",
            " 'QT_ING_CORND' 'QT_MAT' 'QT_MAT_FEM' 'QT_MAT_MASC' 'QT_MAT_DIURNO'\n",
            " 'QT_MAT_NOTURNO' 'QT_MAT_0_17' 'QT_MAT_18_24' 'QT_MAT_25_29'\n",
            " 'QT_MAT_30_34' 'QT_MAT_35_39' 'QT_MAT_40_49' 'QT_MAT_50_59'\n",
            " 'QT_MAT_60_MAIS' 'QT_MAT_BRANCA' 'QT_MAT_PRETA' 'QT_MAT_PARDA'\n",
            " 'QT_MAT_AMARELA' 'QT_MAT_INDIGENA' 'QT_MAT_CORND' 'QT_CONC' 'QT_CONC_FEM'\n",
            " 'QT_CONC_MASC' 'QT_CONC_DIURNO' 'QT_CONC_NOTURNO' 'QT_CONC_0_17'\n",
            " 'QT_CONC_18_24' 'QT_CONC_25_29' 'QT_CONC_30_34' 'QT_CONC_35_39'\n",
            " 'QT_CONC_40_49' 'QT_CONC_50_59' 'QT_CONC_60_MAIS' 'QT_CONC_BRANCA'\n",
            " 'QT_CONC_PRETA' 'QT_CONC_PARDA' 'QT_CONC_AMARELA' 'QT_CONC_INDIGENA'\n",
            " 'QT_CONC_CORND' 'QT_ING_NACBRAS' 'QT_ING_NACESTRANG' 'QT_MAT_NACBRAS'\n",
            " 'QT_MAT_NACESTRANG' 'QT_CONC_NACBRAS' 'QT_CONC_NACESTRANG'\n",
            " 'QT_ALUNO_DEFICIENTE' 'QT_ING_DEFICIENTE' 'QT_MAT_DEFICIENTE'\n",
            " 'QT_CONC_DEFICIENTE' 'QT_ING_FINANC' 'QT_ING_FINANC_REEMB' 'QT_ING_FIES'\n",
            " 'QT_ING_RPFIES' 'QT_ING_FINANC_REEMB_OUTROS' 'QT_ING_FINANC_NREEMB'\n",
            " 'QT_ING_PROUNII' 'QT_ING_PROUNIP' 'QT_ING_NRPFIES'\n",
            " 'QT_ING_FINANC_NREEMB_OUTROS' 'QT_MAT_FINANC' 'QT_MAT_FINANC_REEMB'\n",
            " 'QT_MAT_FIES' 'QT_MAT_RPFIES' 'QT_MAT_FINANC_REEMB_OUTROS'\n",
            " 'QT_MAT_FINANC_NREEMB' 'QT_MAT_PROUNII' 'QT_MAT_PROUNIP' 'QT_MAT_NRPFIES'\n",
            " 'QT_MAT_FINANC_NREEMB_OUTROS' 'QT_CONC_FINANC' 'QT_CONC_FINANC_REEMB'\n",
            " 'QT_CONC_FIES' 'QT_CONC_RPFIES' 'QT_CONC_FINANC_REEMB_OUTROS'\n",
            " 'QT_CONC_FINANC_NREEMB' 'QT_CONC_PROUNII' 'QT_CONC_PROUNIP'\n",
            " 'QT_CONC_NRPFIES' 'QT_CONC_FINANC_NREEMB_OUTROS' 'QT_ING_RESERVA_VAGA'\n",
            " 'QT_ING_RVREDEPUBLICA' 'QT_ING_RVETNICO' 'QT_ING_RVPDEF'\n",
            " 'QT_ING_RVSOCIAL_RF' 'QT_ING_RVOUTROS' 'QT_MAT_RESERVA_VAGA'\n",
            " 'QT_MAT_RVREDEPUBLICA' 'QT_MAT_RVETNICO' 'QT_MAT_RVPDEF'\n",
            " 'QT_MAT_RVSOCIAL_RF' 'QT_MAT_RVOUTROS' 'QT_CONC_RESERVA_VAGA'\n",
            " 'QT_CONC_RVREDEPUBLICA' 'QT_CONC_RVETNICO' 'QT_CONC_RVPDEF'\n",
            " 'QT_CONC_RVSOCIAL_RF' 'QT_CONC_RVOUTROS' 'QT_SIT_TRANCADA'\n",
            " 'QT_SIT_DESVINCULADO' 'QT_SIT_TRANSFERIDO' 'QT_SIT_FALECIDO'\n",
            " 'QT_ING_PROCESCPUBLICA' 'QT_ING_PROCESCPRIVADA' 'QT_ING_PROCNAOINFORMADA'\n",
            " 'QT_MAT_PROCESCPUBLICA' 'QT_MAT_PROCESCPRIVADA' 'QT_MAT_PROCNAOINFORMADA'\n",
            " 'QT_CONC_PROCESCPUBLICA' 'QT_CONC_PROCESCPRIVADA'\n",
            " 'QT_CONC_PROCNAOINFORMADA' 'QT_PARFOR' 'QT_ING_PARFOR' 'QT_MAT_PARFOR'\n",
            " 'QT_CONC_PARFOR' 'QT_APOIO_SOCIAL' 'QT_ING_APOIO_SOCIAL'\n",
            " 'QT_MAT_APOIO_SOCIAL' 'QT_CONC_APOIO_SOCIAL' 'QT_ATIV_EXTRACURRICULAR'\n",
            " 'QT_ING_ATIV_EXTRACURRICULAR' 'QT_MAT_ATIV_EXTRACURRICULAR'\n",
            " 'QT_CONC_ATIV_EXTRACURRICULAR' 'QT_MOB_ACADEMICA' 'QT_ING_MOB_ACADEMICA'\n",
            " 'QT_MAT_MOB_ACADEMICA' 'QT_CONC_MOB_ACADEMICA']\n"
          ]
        }
      ]
    },
    {
      "cell_type": "code",
      "source": [
        "dadosTIC = dadosTIC.dropna()\n"
      ],
      "metadata": {
        "id": "ogxovRR0sruV"
      },
      "execution_count": 8,
      "outputs": []
    },
    {
      "cell_type": "code",
      "source": [
        "dadosTIC = dadosTIC[\"NO_CINE_AREA_DETALHADA\",]"
      ],
      "metadata": {
        "id": "5amF4D7etQjN"
      },
      "execution_count": null,
      "outputs": []
    },
    {
      "cell_type": "code",
      "source": [],
      "metadata": {
        "id": "ixIs8BMdtiyN"
      },
      "execution_count": null,
      "outputs": []
    }
  ],
  "metadata": {
    "kernelspec": {
      "display_name": "Python 3",
      "language": "python",
      "name": "python3"
    },
    "language_info": {
      "codemirror_mode": {
        "name": "ipython",
        "version": 3
      },
      "file_extension": ".py",
      "mimetype": "text/x-python",
      "name": "python",
      "nbconvert_exporter": "python",
      "pygments_lexer": "ipython3",
      "version": "3.10.9"
    },
    "orig_nbformat": 4,
    "colab": {
      "provenance": []
    }
  },
  "nbformat": 4,
  "nbformat_minor": 0
}